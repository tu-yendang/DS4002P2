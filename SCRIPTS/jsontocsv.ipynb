{
 "cells": [
  {
   "cell_type": "markdown",
   "metadata": {},
   "source": [
    "# Turning Raw JSON Data Into Readable CSV Files\n",
    "This file takes the raw JSON file data from the data folder and will output a clean, usable, and readable CSV file. This will be performed on each artist in order to get appropriate data for them."
   ]
  },
  {
   "cell_type": "code",
   "execution_count": 6,
   "metadata": {},
   "outputs": [],
   "source": [
    "# import statements\n",
    "import json\n",
    "import csv\n",
    "from datetime import datetime"
   ]
  },
  {
   "cell_type": "code",
   "execution_count": 7,
   "metadata": {},
   "outputs": [],
   "source": [
    "\n",
    "# select raw data file path and desired csv file path\n",
    "json_file_path='../DATA/Raw JSON Data/sabrina_carpenter.json'\n",
    "csv_file_path='../DATA/monthly_listeners/sabrina_carpenter.csv'"
   ]
  },
  {
   "cell_type": "code",
   "execution_count": 8,
   "metadata": {},
   "outputs": [],
   "source": [
    "# load json file and extract popularity and monthly listeners list\n",
    "with open(json_file_path) as json_file:\n",
    "    data = json.load(json_file)\n",
    "\n",
    "popularity = data[\"popupInfo\"][\"seriesData\"][0]['data']\n",
    "monthly_listeners = data[\"popupInfo\"][\"seriesData\"][1]['data']"
   ]
  },
  {
   "cell_type": "code",
   "execution_count": 9,
   "metadata": {},
   "outputs": [],
   "source": [
    "# write to CSV file the Date and number of monthly listeners\n",
    "# reference: https://www.geeksforgeeks.org/convert-json-to-csv-in-python/\n",
    "with open(csv_file_path, mode='w', newline='') as csv_file:\n",
    "    csv_writer = csv.writer(csv_file)\n",
    "    csv_writer.writerow(['Date', 'Monthly Listeners'])\n",
    "    # turn json date attribute into user-readable attribute\n",
    "    for entry in monthly_listeners:\n",
    "        if len(entry) == 2:\n",
    "            timestamp = entry[0]/1000\n",
    "            readable_date=datetime.fromtimestamp(timestamp).strftime('%m-%d-%Y')\n",
    "            monthly_listeners=entry[1]\n",
    "            csv_writer.writerow([readable_date, monthly_listeners])"
   ]
  }
 ],
 "metadata": {
  "kernelspec": {
   "display_name": "Python 3",
   "language": "python",
   "name": "python3"
  },
  "language_info": {
   "codemirror_mode": {
    "name": "ipython",
    "version": 3
   },
   "file_extension": ".py",
   "mimetype": "text/x-python",
   "name": "python",
   "nbconvert_exporter": "python",
   "pygments_lexer": "ipython3",
   "version": "3.11.5"
  }
 },
 "nbformat": 4,
 "nbformat_minor": 2
}
