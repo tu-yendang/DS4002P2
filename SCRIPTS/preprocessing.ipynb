{
 "cells": [
  {
   "cell_type": "markdown",
   "metadata": {},
   "source": [
    "# Preprocessing\n",
    "This file takes the raw JSON file data from the data folder and will output a clean, usable, and readable CSV file. This will be performed on each artist in order to get appropriate data for them."
   ]
  },
  {
   "cell_type": "code",
   "execution_count": 49,
   "metadata": {},
   "outputs": [],
   "source": [
    "# import packages\n",
    "import json\n",
    "import csv\n",
    "from datetime import datetime"
   ]
  },
  {
   "cell_type": "code",
   "execution_count": 50,
   "metadata": {},
   "outputs": [],
   "source": [
    "# select raw data file path and desired csv file path. select artist name to use later on\n",
    "# this was collected for the following artists: Miley Cyrus, Selena Gomez, Jonas Brothers, Demi Lovato\n",
    "# Vanessa Hudgens, Bridget Mendler, Dove Cameron, Ross Lynch\n",
    "\n",
    "json_file_path='../DATA/Raw JSON Data/vanessa_hudgens.json'\n",
    "csv_file_path='../DATA/monthly_listeners_final.csv'\n",
    "artist_name='Vanessa Hudgens' # change for every artist"
   ]
  },
  {
   "cell_type": "code",
   "execution_count": 51,
   "metadata": {},
   "outputs": [],
   "source": [
    "# load json file and extract popularity and monthly listeners list\n",
    "with open(json_file_path) as json_file:\n",
    "    data = json.load(json_file)\n",
    "\n",
    "popularity = data[\"popupInfo\"][\"seriesData\"][0]['data']\n",
    "monthly_listeners = data[\"popupInfo\"][\"seriesData\"][1]['data']"
   ]
  },
  {
   "cell_type": "code",
   "execution_count": 52,
   "metadata": {},
   "outputs": [],
   "source": [
    "# write to CSV file the artist name, date, and number of monthly listeners\n",
    "# reference: https://www.geeksforgeeks.org/convert-json-to-csv-in-python/\n",
    "## in append mode so that different artist data can be added to same file. If desired to overwrite, use mode='w'\n",
    "with open(csv_file_path, mode='a', newline='') as csv_file:\n",
    "    csv_writer = csv.writer(csv_file)\n",
    "    csv_writer.writerow(['Artist', 'Date', 'Monthly Listeners'])\n",
    "    # turn json date values into user-readable attribute and check if values are between 2021-2024\n",
    "    cutoff_timestamp = datetime(2021, 1, 1).timestamp()\n",
    "    for entry in monthly_listeners:\n",
    "        if len(entry) == 2:\n",
    "            timestamp = entry[0]/1000\n",
    "            if timestamp >= cutoff_timestamp:\n",
    "                readable_date=datetime.fromtimestamp(timestamp).strftime('%m-%d-%Y')\n",
    "                monthly_listeners=entry[1]\n",
    "                csv_writer.writerow([artist_name, readable_date, monthly_listeners])"
   ]
  }
 ],
 "metadata": {
  "kernelspec": {
   "display_name": "Python 3",
   "language": "python",
   "name": "python3"
  },
  "language_info": {
   "codemirror_mode": {
    "name": "ipython",
    "version": 3
   },
   "file_extension": ".py",
   "mimetype": "text/x-python",
   "name": "python",
   "nbconvert_exporter": "python",
   "pygments_lexer": "ipython3",
   "version": "3.11.5"
  }
 },
 "nbformat": 4,
 "nbformat_minor": 2
}
